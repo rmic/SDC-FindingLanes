{
 "cells": [
  {
   "cell_type": "markdown",
   "metadata": {
    "deletable": true,
    "editable": true
   },
   "source": [
    "# Self-Driving Car Engineer Nanodegree\n",
    "\n",
    "\n",
    "## Project: **Finding Lane Lines on the Road** \n"
   ]
  },
  {
   "cell_type": "markdown",
   "metadata": {
    "deletable": true,
    "editable": true
   },
   "source": [
    "## Import Packages"
   ]
  },
  {
   "cell_type": "code",
   "execution_count": 1,
   "metadata": {
    "collapsed": false,
    "deletable": true,
    "editable": true
   },
   "outputs": [],
   "source": [
    "#importing some useful packages\n",
    "import matplotlib.image as mpimg\n",
    "import numpy as np\n",
    "import cv2\n",
    "from moviepy.editor import VideoFileClip\n",
    "\n",
    "%matplotlib inline"
   ]
  },
  {
   "cell_type": "markdown",
   "metadata": {
    "deletable": true,
    "editable": true
   },
   "source": [
    "## Helper Functions"
   ]
  },
  {
   "cell_type": "markdown",
   "metadata": {
    "deletable": true,
    "editable": true
   },
   "source": [
    "Below are some helper functions to help get you started. They should look familiar from the lesson!"
   ]
  },
  {
   "cell_type": "code",
   "execution_count": 2,
   "metadata": {
    "collapsed": true,
    "deletable": true,
    "editable": true
   },
   "outputs": [],
   "source": [
    "import math\n",
    "\n",
    "def grayscale(img):\n",
    "    \"\"\"Applies the Grayscale transform\n",
    "    This will return an image with only one color channel\n",
    "    but NOTE: to see the returned image as grayscale\n",
    "    (assuming your grayscaled image is called 'gray')\n",
    "    you should call plt.imshow(gray, cmap='gray')\"\"\"\n",
    "    return cv2.cvtColor(img, cv2.COLOR_RGB2GRAY)\n",
    "    # Or use BGR2GRAY if you read an image with cv2.imread()\n",
    "    # return cv2.cvtColor(img, cv2.COLOR_BGR2GRAY)\n",
    "    \n",
    "def canny(img, low_threshold, high_threshold):\n",
    "    \"\"\"Applies the Canny transform\"\"\"\n",
    "    return cv2.Canny(img, low_threshold, high_threshold)\n",
    "\n",
    "def gaussian_blur(img, kernel_size):\n",
    "    \"\"\"Applies a Gaussian Noise kernel\"\"\"\n",
    "    return cv2.GaussianBlur(img, (kernel_size, kernel_size), 0)\n",
    "\n",
    "def region_of_interest(img, vertices):\n",
    "    \"\"\"\n",
    "    Applies an image mask.\n",
    "    \n",
    "    Only keeps the region of the image defined by the polygon\n",
    "    formed from `vertices`. The rest of the image is set to black.\n",
    "    \"\"\"\n",
    "    #defining a blank mask to start with\n",
    "    mask = np.zeros_like(img)   \n",
    "    \n",
    "    #defining a 3 channel or 1 channel color to fill the mask with depending on the input image\n",
    "    if len(img.shape) > 2:\n",
    "        channel_count = img.shape[2]  # i.e. 3 or 4 depending on your image\n",
    "        ignore_mask_color = (255,) * channel_count\n",
    "    else:\n",
    "        ignore_mask_color = 255\n",
    "        \n",
    "    #filling pixels inside the polygon defined by \"vertices\" with the fill color    \n",
    "    cv2.fillPoly(mask, vertices, ignore_mask_color)\n",
    "    \n",
    "    #returning the image only where mask pixels are nonzero\n",
    "    masked_image = cv2.bitwise_and(img, mask)\n",
    "    return masked_image\n",
    "\n",
    "\n",
    "def draw_lines(img, lines, color=[255, 0, 0], thickness=2):\n",
    "    \"\"\"\n",
    "    NOTE: this is the function you might want to use as a starting point once you want to \n",
    "    average/extrapolate the line segments you detect to map out the full\n",
    "    extent of the lane (going from the result shown in raw-lines-example.mp4\n",
    "    to that shown in P1_example.mp4).  \n",
    "    \n",
    "    Think about things like separating line segments by their \n",
    "    slope ((y2-y1)/(x2-x1)) to decide which segments are part of the left\n",
    "    line vs. the right line.  Then, you can average the position of each of \n",
    "    the lines and extrapolate to the top and bottom of the lane.\n",
    "    \n",
    "    This function draws `lines` with `color` and `thickness`.    \n",
    "    Lines are drawn on the image inplace (mutates the image).\n",
    "    If you want to make the lines semi-transparent, think about combining\n",
    "    this function with the weighted_img() function below\n",
    "    \"\"\"\n",
    "    for line in lines:\n",
    "        for x1,y1,x2,y2 in line:\n",
    "            cv2.line(img, (x1, y1), (x2, y2), color, thickness)\n",
    "\n",
    "def hough_lines(img, rho, theta, threshold, min_line_len, max_line_gap):\n",
    "    \"\"\"\n",
    "    `img` should be the output of a Canny transform.\n",
    "        \n",
    "    Returns an image with hough lines drawn.\n",
    "    \"\"\"\n",
    "    lines = cv2.HoughLinesP(img, rho, theta, threshold, np.array([]), minLineLength=min_line_len, maxLineGap=max_line_gap)\n",
    "    line_img = np.zeros((img.shape[0], img.shape[1], 3), dtype=np.uint8)\n",
    "    draw_lines(line_img, lines)\n",
    "    return line_img\n",
    "\n",
    "# Python 3 has support for cool math symbols.\n",
    "\n",
    "def weighted_img(img, initial_img, α=0.8, β=1., λ=0.):\n",
    "    \"\"\"\n",
    "    `img` is the output of the hough_lines(), An image with lines drawn on it.\n",
    "    Should be a blank image (all black) with lines drawn on it.\n",
    "    \n",
    "    `initial_img` should be the image before any processing.\n",
    "    \n",
    "    The result image is computed as follows:\n",
    "    \n",
    "    initial_img * α + img * β + λ\n",
    "    NOTE: initial_img and img must be the same shape!\n",
    "    \"\"\"\n",
    "    return cv2.addWeighted(initial_img, α, img, β, λ)"
   ]
  },
  {
   "cell_type": "markdown",
   "metadata": {
    "deletable": true,
    "editable": true
   },
   "source": [
    "## Build a Lane Finding Pipeline\n",
    "\n",
    "My pipeline consisted of the following steps: \n",
    "\n",
    "* Converting to grayscale and blurring to remove small unwanted artefacts\n",
    "* Increasing contrast by pushing the highlights \n",
    "* Detecting the edges using a canny edge detector\n",
    "* Masking the unwanted parts of the image\n",
    "* Detecting lines using a hough line detector\n",
    "* Filtering and classifying the lines\n",
    "* Fitting and drawing two lines (one for each side of the lane)"
   ]
  },
  {
   "cell_type": "code",
   "execution_count": 3,
   "metadata": {
    "collapsed": true,
    "deletable": true,
    "editable": true
   },
   "outputs": [],
   "source": [
    "# Define the Hough transform parameters\n",
    "rho = 2\n",
    "theta = np.pi/90\n",
    "threshold = 15\n",
    "min_line_length = 200\n",
    "max_line_gap = 150\n",
    "\n",
    "# Define the canny edge detection parameters\n",
    "blur_kernel = 13\n",
    "canny_low_threshold = 50\n",
    "canny_high_threshold = 150\n",
    "\n",
    "# Define the detection horizon\n",
    "y_cut = .62\n",
    "\n",
    "# The coordinates of the lines\n",
    "global prev_bottom_left_x\n",
    "global prev_bottom_right_x\n",
    "global prev_top_left_x\n",
    "global prev_top_right_x\n",
    "\n",
    "prev_bottom_left_x = 0\n",
    "prev_bottom_right_x = 0\n",
    "prev_top_left_x = 0\n",
    "prev_top_right_x = 0\n",
    "\n",
    "# This function processes each frame from the video individually\n",
    "def process_image(image):\n",
    "    global prev_bottom_left_x\n",
    "    global prev_bottom_right_x\n",
    "    global prev_top_left_x\n",
    "    global prev_top_right_x\n",
    "\n",
    "    imshape = image.shape\n",
    "\n",
    "\n",
    "    ## Conversion to grayscale and blurring\n",
    "    gray = gaussian_blur(grayscale(image),blur_kernel)\n",
    "\n",
    "    ## Increase contrast\n",
    "    highlights = (gray[:,:] > 180)\n",
    "    gray[highlights] = 255\n",
    "\n",
    "    ## Detect edges\n",
    "    edges = canny(gray,canny_low_threshold,canny_high_threshold)\n",
    "\n",
    "    ## Mask the unwanted parts of the image\n",
    "    vertices = np.array([[ (0, imshape[0]),\n",
    "                           (imshape[1] * .45, imshape[0] * y_cut),\n",
    "                           (imshape[1] * .55, imshape[0] * y_cut),\n",
    "                           (imshape[1], imshape[0]) ]], dtype=np.int32)\n",
    "\n",
    "    masked = region_of_interest(edges, vertices)\n",
    "\n",
    "    ## Detect lines\n",
    "    lines = cv2.HoughLinesP(masked, rho, theta, threshold, np.array([]),\n",
    "                                    min_line_length, max_line_gap)\n",
    "\n",
    "    line_image = np.copy(image)*0\n",
    "\n",
    "    left_x = []\n",
    "    left_y = []\n",
    "    right_x = []\n",
    "    right_y = []\n",
    "\n",
    "    ## Filter and classify lines\n",
    "    if lines is not None:\n",
    "        for line in lines:\n",
    "            for x1, y1, x2, y2 in line:\n",
    "                slope = np.abs((y2 - y1) / (x2 - x1))\n",
    "                if(slope > .5):\n",
    "                    if (x1 < x2 and y1 > y2) or (x2 < x1 and y2 > y1) :\n",
    "                        # left line\n",
    "                        left_x.append(x1)\n",
    "                        left_x.append(x2)\n",
    "                        left_y.append(y1)\n",
    "                        left_y.append(y2)\n",
    "                    else:\n",
    "                        # right line\n",
    "                        right_x.append(x1)\n",
    "                        right_x.append(x2)\n",
    "                        right_y.append(y1)\n",
    "                        right_y.append(y2)\n",
    "\n",
    "    ## Fit and draw the two lines\n",
    "\n",
    "    # Left line\n",
    "    top_left_y = int(imshape[0] * y_cut)\n",
    "    if(len(left_x) and len(left_y)):\n",
    "        left_slope, left_intersect = np.polyfit(left_x, left_y, 1)\n",
    "        bottom_left_x = int((imshape[0] - left_intersect) / left_slope)\n",
    "        top_left_x = int((top_left_y - left_intersect) / left_slope)\n",
    "        prev_bottom_left_x = bottom_left_x\n",
    "        prev_top_left_x = top_left_x\n",
    "    else:\n",
    "        bottom_left_x = prev_bottom_left_x\n",
    "        top_left_x = prev_top_left_x\n",
    "\n",
    "    # Right line\n",
    "    top_right_y = int(imshape[0] * y_cut)\n",
    "    if (len(right_x) and len(right_y)):\n",
    "        right_slope, right_intersect = np.poly1d(np.polyfit(right_x, right_y, 1))\n",
    "        bottom_right_x = int((imshape[0] - right_intersect) / right_slope)\n",
    "        top_right_x = int((top_right_y - right_intersect) / right_slope)\n",
    "        prev_bottom_right_x = bottom_right_x\n",
    "        prev_top_right_x = top_right_x\n",
    "    else:\n",
    "        bottom_right_x = prev_bottom_right_x\n",
    "        top_right_x = prev_top_right_x\n",
    "\n",
    "    # Draw the lines\n",
    "    draw_lines(line_image, [[[bottom_left_x, imshape[0], top_left_x, top_left_y],\n",
    "                            [bottom_right_x, imshape[0], top_right_x, top_right_y]]], thickness=10)\n",
    "\n",
    "\n",
    "\n",
    "    # Combine the lines with the original video\n",
    "    full_image = cv2.addWeighted(image, 0.7 , line_image, 1, 0)\n",
    "    return full_image"
   ]
  },
  {
   "cell_type": "markdown",
   "metadata": {
    "deletable": true,
    "editable": true
   },
   "source": [
    "## Test on Videos\n",
    "\n",
    "We can test our solution on two provided videos:\n",
    "\n",
    "`solidWhiteRight.mp4`\n",
    "\n",
    "`solidYellowLeft.mp4`\n",
    "\n",
    "Then on a third video:\n",
    "\n",
    "`challenge.mp4`"
   ]
  },
  {
   "cell_type": "code",
   "execution_count": 4,
   "metadata": {
    "collapsed": true,
    "deletable": true,
    "editable": true
   },
   "outputs": [],
   "source": [
    "# Import everything needed to edit/save/watch video clips\n",
    "from moviepy.editor import VideoFileClip\n",
    "from IPython.display import HTML"
   ]
  },
  {
   "cell_type": "markdown",
   "metadata": {
    "deletable": true,
    "editable": true
   },
   "source": [
    "Let's try the one with the solid white lane on the right first ..."
   ]
  },
  {
   "cell_type": "code",
   "execution_count": 5,
   "metadata": {
    "collapsed": false,
    "deletable": true,
    "editable": true
   },
   "outputs": [
    {
     "name": "stdout",
     "output_type": "stream",
     "text": [
      "[MoviePy] >>>> Building video white-output.mp4\n",
      "[MoviePy] Writing video white-output.mp4\n"
     ]
    },
    {
     "name": "stderr",
     "output_type": "stream",
     "text": [
      "100%|█████████▉| 221/222 [00:05<00:00, 39.64it/s]\n"
     ]
    },
    {
     "name": "stdout",
     "output_type": "stream",
     "text": [
      "[MoviePy] Done.\n",
      "[MoviePy] >>>> Video ready: white-output.mp4 \n",
      "\n",
      "CPU times: user 2.89 s, sys: 419 ms, total: 3.31 s\n",
      "Wall time: 6.34 s\n"
     ]
    }
   ],
   "source": [
    "white_output = 'white-output.mp4'\n",
    "clip1 = VideoFileClip(\"solidWhiteRight.mp4\")\n",
    "white_clip = clip1.fl_image(process_image) #NOTE: this function expects color images!!\n",
    "%time white_clip.write_videofile(white_output, audio=False)"
   ]
  },
  {
   "cell_type": "markdown",
   "metadata": {
    "deletable": true,
    "editable": true
   },
   "source": [
    "Play the video inline, or if you prefer find the video in your filesystem (should be in the same directory) and play it in your video player of choice."
   ]
  },
  {
   "cell_type": "code",
   "execution_count": 6,
   "metadata": {
    "collapsed": false,
    "deletable": true,
    "editable": true
   },
   "outputs": [
    {
     "data": {
      "text/html": [
       "\n",
       "<video width=\"960\" height=\"540\" controls>\n",
       "  <source src=\"white-output.mp4\">\n",
       "</video>\n"
      ],
      "text/plain": [
       "<IPython.core.display.HTML object>"
      ]
     },
     "execution_count": 6,
     "metadata": {},
     "output_type": "execute_result"
    }
   ],
   "source": [
    "HTML(\"\"\"\n",
    "<video width=\"960\" height=\"540\" controls>\n",
    "  <source src=\"{0}\">\n",
    "</video>\n",
    "\"\"\".format(white_output))"
   ]
  },
  {
   "cell_type": "markdown",
   "metadata": {
    "deletable": true,
    "editable": true
   },
   "source": [
    "Now for the one with the solid yellow lane on the left. This one's more tricky!"
   ]
  },
  {
   "cell_type": "code",
   "execution_count": 7,
   "metadata": {
    "collapsed": false,
    "deletable": true,
    "editable": true
   },
   "outputs": [
    {
     "name": "stdout",
     "output_type": "stream",
     "text": [
      "[MoviePy] >>>> Building video yellow-output.mp4\n",
      "[MoviePy] Writing video yellow-output.mp4\n"
     ]
    },
    {
     "name": "stderr",
     "output_type": "stream",
     "text": [
      "100%|█████████▉| 681/682 [00:17<00:00, 40.05it/s]\n"
     ]
    },
    {
     "name": "stdout",
     "output_type": "stream",
     "text": [
      "[MoviePy] Done.\n",
      "[MoviePy] >>>> Video ready: yellow-output.mp4 \n",
      "\n",
      "CPU times: user 9.05 s, sys: 1.32 s, total: 10.4 s\n",
      "Wall time: 17.7 s\n"
     ]
    }
   ],
   "source": [
    "yellow_output = 'yellow-output.mp4'\n",
    "clip2 = VideoFileClip('solidYellowLeft.mp4')\n",
    "yellow_clip = clip2.fl_image(process_image)\n",
    "%time yellow_clip.write_videofile(yellow_output, audio=False)"
   ]
  },
  {
   "cell_type": "code",
   "execution_count": 8,
   "metadata": {
    "collapsed": false,
    "deletable": true,
    "editable": true
   },
   "outputs": [
    {
     "data": {
      "text/html": [
       "\n",
       "<video width=\"960\" height=\"540\" controls>\n",
       "  <source src=\"yellow-output.mp4\">\n",
       "</video>\n"
      ],
      "text/plain": [
       "<IPython.core.display.HTML object>"
      ]
     },
     "execution_count": 8,
     "metadata": {},
     "output_type": "execute_result"
    }
   ],
   "source": [
    "HTML(\"\"\"\n",
    "<video width=\"960\" height=\"540\" controls>\n",
    "  <source src=\"{0}\">\n",
    "</video>\n",
    "\"\"\".format(yellow_output))"
   ]
  },
  {
   "cell_type": "markdown",
   "metadata": {
    "collapsed": true,
    "deletable": true,
    "editable": true
   },
   "source": [
    "## Optional Challenge\n",
    "\n",
    "Try your lane finding pipeline on the video below.  Does it still work?  Can you figure out a way to make it more robust?  If you're up for the challenge, modify your pipeline so it works with this video and submit it along with the rest of your project!"
   ]
  },
  {
   "cell_type": "code",
   "execution_count": 9,
   "metadata": {
    "collapsed": false,
    "deletable": true,
    "editable": true
   },
   "outputs": [
    {
     "name": "stdout",
     "output_type": "stream",
     "text": [
      "[MoviePy] >>>> Building video challenge-output.mp4\n",
      "[MoviePy] Writing video challenge-output.mp4\n"
     ]
    },
    {
     "name": "stderr",
     "output_type": "stream",
     "text": [
      "100%|██████████| 251/251 [00:12<00:00, 20.20it/s]\n"
     ]
    },
    {
     "name": "stdout",
     "output_type": "stream",
     "text": [
      "[MoviePy] Done.\n",
      "[MoviePy] >>>> Video ready: challenge-output.mp4 \n",
      "\n",
      "CPU times: user 5.98 s, sys: 1.8 s, total: 7.78 s\n",
      "Wall time: 14.1 s\n"
     ]
    }
   ],
   "source": [
    "challenge_output = 'challenge-output.mp4'\n",
    "clip2 = VideoFileClip('challenge.mp4')\n",
    "challenge_clip = clip2.fl_image(process_image)\n",
    "%time challenge_clip.write_videofile(challenge_output, audio=False)"
   ]
  },
  {
   "cell_type": "code",
   "execution_count": 10,
   "metadata": {
    "collapsed": false,
    "deletable": true,
    "editable": true
   },
   "outputs": [
    {
     "data": {
      "text/html": [
       "\n",
       "<video width=\"960\" height=\"540\" controls>\n",
       "  <source src=\"challenge-output.mp4\">\n",
       "</video>\n"
      ],
      "text/plain": [
       "<IPython.core.display.HTML object>"
      ]
     },
     "execution_count": 10,
     "metadata": {},
     "output_type": "execute_result"
    }
   ],
   "source": [
    "HTML(\"\"\"\n",
    "<video width=\"960\" height=\"540\" controls>\n",
    "  <source src=\"{0}\">\n",
    "</video>\n",
    "\"\"\".format(challenge_output))"
   ]
  },
  {
   "cell_type": "code",
   "execution_count": null,
   "metadata": {
    "collapsed": true,
    "deletable": true,
    "editable": true
   },
   "outputs": [],
   "source": []
  }
 ],
 "metadata": {
  "anaconda-cloud": {},
  "kernelspec": {
   "display_name": "Python 3",
   "language": "python",
   "name": "python3"
  },
  "language_info": {
   "codemirror_mode": {
    "name": "ipython",
    "version": 3
   },
   "file_extension": ".py",
   "mimetype": "text/x-python",
   "name": "python",
   "nbconvert_exporter": "python",
   "pygments_lexer": "ipython3",
   "version": "3.5.2"
  },
  "widgets": {
   "state": {},
   "version": "1.1.2"
  }
 },
 "nbformat": 4,
 "nbformat_minor": 0
}
